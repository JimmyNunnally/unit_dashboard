{
 "cells": [
  {
   "cell_type": "code",
   "execution_count": 11,
   "id": "98d013ef",
   "metadata": {},
   "outputs": [],
   "source": [
    "import pandas as pd\n",
    "def look(Brigade,Battalion):\n",
    "    Br=Brigade\n",
    "    Ba=Battalion\n",
    "    return df.loc[(df['Brigade'] ==Br) & (df['Battalion'] ==Ba) & turn==turn]\n",
    "\n",
    "df = pd.read_csv(r'C:\\Users\\jimmy\\OneDrive\\Desktop\\FP_tool\\unit_sample.csv')\n",
    "df['Turn']=0"
   ]
  },
  {
   "cell_type": "code",
   "execution_count": 147,
   "id": "7e2309fb",
   "metadata": {},
   "outputs": [
    {
     "name": "stdout",
     "output_type": "stream",
     "text": [
      "Enter the number of units:2\n",
      "Enter the turn number:1\n",
      "Enter Brigade1\n",
      "Enter Battalion 11\n",
      "The current unit strength is: \n",
      "    Brigade  Battalion Type  Strength Color  Turn  Firepower\n",
      "0        1          1  MRB       100  BLUE     0        599\n",
      "Enter strength for 1 brigade 1 battalion50\n",
      "Enter Brigade1\n",
      "Enter Battalion 12\n",
      "The current unit strength is: \n",
      "   Brigade Battalion Type Strength Color  Turn  Firepower\n",
      "1       1         2  MRB      100  BLUE     0      743.0\n",
      "Enter strength for 1 brigade 2 battalion65\n",
      "   Brigade Battalion Type Strength Color  Turn  Firepower\n",
      "0        1         1  MRB      100  BLUE     0      599.0\n",
      "1        1         2  MRB      100  BLUE     0      743.0\n",
      "2        1         3  MRB      100  BLUE     0      602.0\n",
      "3        1         4  MRB      100  BLUE     0      540.0\n",
      "4        2         1  TAB      100  BLUE     0      878.0\n",
      "5        2         2  TAB      100  BLUE     0      528.0\n",
      "6        2         3  TAB      100  BLUE     0      913.0\n",
      "7        2         4  TAB      100  BLUE     0      717.0\n",
      "8       51         1  MRB      100   RED     0      513.0\n",
      "9       51         2  MRB      100   RED     0      551.0\n",
      "10      51         3  MRB      100   RED     0      589.0\n",
      "11      51         4  MRB      100   RED     0      610.0\n",
      "12      52         1  MRB      100   RED     0      586.0\n",
      "13      52         2  MRB      100   RED     0      979.0\n",
      "14      52         3  MRB      100   RED     0      773.0\n",
      "15      52         4  MRB      100   RED     0      513.0\n",
      "16       1         1  NaN       50   NaN     1        NaN\n",
      "17       1         2  NaN       65   NaN     1        NaN\n"
     ]
    }
   ],
   "source": [
    "\n",
    "\n",
    "units = int(input(\"Enter the number of units:\"))\n",
    "turn = int(input(\"Enter the turn number:\"))\n",
    "\n",
    "for _ in range(units):\n",
    "    ubr = input(\"Enter Brigade\")\n",
    "    uba = input(\"Enter Battalion {}\".format(ubr))\n",
    "    print ('The current unit strength is: \\n',look(int(ubr),int(uba)))\n",
    "    s = input(\"Enter strength for {} brigade {} battalion\".format(ubr,uba))\n",
    "    df1 = pd.DataFrame(data=[[ubr,uba,s,turn]],columns=[\"Brigade\", \"Battalion\", \"Strength\",\"Turn\"])\n",
    "    df = pd.concat([df,df1], axis=0)\n",
    "\n",
    "df.index = range(len(df.index))\n",
    "print (df)\n",
    "#write to csv\n",
    "#implement roll and then have it subtract atttrition from current value"
   ]
  },
  {
   "cell_type": "code",
   "execution_count": 150,
   "id": "e4600874",
   "metadata": {},
   "outputs": [
    {
     "data": {
      "text/html": [
       "<div>\n",
       "<style scoped>\n",
       "    .dataframe tbody tr th:only-of-type {\n",
       "        vertical-align: middle;\n",
       "    }\n",
       "\n",
       "    .dataframe tbody tr th {\n",
       "        vertical-align: top;\n",
       "    }\n",
       "\n",
       "    .dataframe thead th {\n",
       "        text-align: right;\n",
       "    }\n",
       "</style>\n",
       "<table border=\"1\" class=\"dataframe\">\n",
       "  <thead>\n",
       "    <tr style=\"text-align: right;\">\n",
       "      <th></th>\n",
       "      <th>Brigade</th>\n",
       "      <th>Battalion</th>\n",
       "      <th>Strength</th>\n",
       "      <th>Turn</th>\n",
       "    </tr>\n",
       "  </thead>\n",
       "  <tbody>\n",
       "    <tr>\n",
       "      <th>0</th>\n",
       "      <td>1</td>\n",
       "      <td>2</td>\n",
       "      <td>65</td>\n",
       "      <td>1</td>\n",
       "    </tr>\n",
       "  </tbody>\n",
       "</table>\n",
       "</div>"
      ],
      "text/plain": [
       "  Brigade Battalion Strength  Turn\n",
       "0       1         2       65     1"
      ]
     },
     "execution_count": 150,
     "metadata": {},
     "output_type": "execute_result"
    }
   ],
   "source": [
    "df1"
   ]
  },
  {
   "cell_type": "markdown",
   "id": "7d676b49",
   "metadata": {},
   "source": [
    "P34 is the roll\n",
    "\n",
    "P26 is percent ratio (eg. .55), R26 is .45\n",
    "\n",
    "\n",
    "MIN((P34/100)*(100/(P26*100)*(P26*(100/(P26*100)*0.5))),1)\n",
    "\n",
    "MIN(1,(1-(P34/100))*(100/(R26*100))*(R26*(100/(R26*100))*0.5))\n"
   ]
  },
  {
   "cell_type": "code",
   "execution_count": 2,
   "id": "9f6c8f60",
   "metadata": {},
   "outputs": [],
   "source": [
    "import random\n",
    "roll=random.randrange(1,100)\n",
    "#firepower column\n",
    "#create ratio by comparing firepowers in the lookup "
   ]
  },
  {
   "cell_type": "code",
   "execution_count": 3,
   "id": "29b17521",
   "metadata": {},
   "outputs": [
    {
     "data": {
      "text/plain": [
       "18"
      ]
     },
     "execution_count": 3,
     "metadata": {},
     "output_type": "execute_result"
    }
   ],
   "source": [
    "roll"
   ]
  },
  {
   "cell_type": "code",
   "execution_count": 43,
   "id": "bc135b27",
   "metadata": {},
   "outputs": [],
   "source": [
    "import numpy as np\n",
    "df['Firepower']=np.random.randint(500,1000,size=16)"
   ]
  },
  {
   "cell_type": "code",
   "execution_count": 44,
   "id": "4551c737",
   "metadata": {},
   "outputs": [
    {
     "data": {
      "text/html": [
       "<div>\n",
       "<style scoped>\n",
       "    .dataframe tbody tr th:only-of-type {\n",
       "        vertical-align: middle;\n",
       "    }\n",
       "\n",
       "    .dataframe tbody tr th {\n",
       "        vertical-align: top;\n",
       "    }\n",
       "\n",
       "    .dataframe thead th {\n",
       "        text-align: right;\n",
       "    }\n",
       "</style>\n",
       "<table border=\"1\" class=\"dataframe\">\n",
       "  <thead>\n",
       "    <tr style=\"text-align: right;\">\n",
       "      <th></th>\n",
       "      <th>Brigade</th>\n",
       "      <th>Battalion</th>\n",
       "      <th>Type</th>\n",
       "      <th>Strength</th>\n",
       "      <th>Color</th>\n",
       "      <th>Turn</th>\n",
       "      <th>Firepower</th>\n",
       "    </tr>\n",
       "  </thead>\n",
       "  <tbody>\n",
       "    <tr>\n",
       "      <th>0</th>\n",
       "      <td>1</td>\n",
       "      <td>1</td>\n",
       "      <td>MRB</td>\n",
       "      <td>100</td>\n",
       "      <td>BLUE</td>\n",
       "      <td>0</td>\n",
       "      <td>599</td>\n",
       "    </tr>\n",
       "    <tr>\n",
       "      <th>1</th>\n",
       "      <td>1</td>\n",
       "      <td>2</td>\n",
       "      <td>MRB</td>\n",
       "      <td>100</td>\n",
       "      <td>BLUE</td>\n",
       "      <td>0</td>\n",
       "      <td>743</td>\n",
       "    </tr>\n",
       "    <tr>\n",
       "      <th>2</th>\n",
       "      <td>1</td>\n",
       "      <td>3</td>\n",
       "      <td>MRB</td>\n",
       "      <td>100</td>\n",
       "      <td>BLUE</td>\n",
       "      <td>0</td>\n",
       "      <td>602</td>\n",
       "    </tr>\n",
       "    <tr>\n",
       "      <th>3</th>\n",
       "      <td>1</td>\n",
       "      <td>4</td>\n",
       "      <td>MRB</td>\n",
       "      <td>100</td>\n",
       "      <td>BLUE</td>\n",
       "      <td>0</td>\n",
       "      <td>540</td>\n",
       "    </tr>\n",
       "    <tr>\n",
       "      <th>4</th>\n",
       "      <td>2</td>\n",
       "      <td>1</td>\n",
       "      <td>TAB</td>\n",
       "      <td>100</td>\n",
       "      <td>BLUE</td>\n",
       "      <td>0</td>\n",
       "      <td>878</td>\n",
       "    </tr>\n",
       "    <tr>\n",
       "      <th>5</th>\n",
       "      <td>2</td>\n",
       "      <td>2</td>\n",
       "      <td>TAB</td>\n",
       "      <td>100</td>\n",
       "      <td>BLUE</td>\n",
       "      <td>0</td>\n",
       "      <td>528</td>\n",
       "    </tr>\n",
       "    <tr>\n",
       "      <th>6</th>\n",
       "      <td>2</td>\n",
       "      <td>3</td>\n",
       "      <td>TAB</td>\n",
       "      <td>100</td>\n",
       "      <td>BLUE</td>\n",
       "      <td>0</td>\n",
       "      <td>913</td>\n",
       "    </tr>\n",
       "    <tr>\n",
       "      <th>7</th>\n",
       "      <td>2</td>\n",
       "      <td>4</td>\n",
       "      <td>TAB</td>\n",
       "      <td>100</td>\n",
       "      <td>BLUE</td>\n",
       "      <td>0</td>\n",
       "      <td>717</td>\n",
       "    </tr>\n",
       "    <tr>\n",
       "      <th>8</th>\n",
       "      <td>51</td>\n",
       "      <td>1</td>\n",
       "      <td>MRB</td>\n",
       "      <td>100</td>\n",
       "      <td>RED</td>\n",
       "      <td>0</td>\n",
       "      <td>513</td>\n",
       "    </tr>\n",
       "    <tr>\n",
       "      <th>9</th>\n",
       "      <td>51</td>\n",
       "      <td>2</td>\n",
       "      <td>MRB</td>\n",
       "      <td>100</td>\n",
       "      <td>RED</td>\n",
       "      <td>0</td>\n",
       "      <td>551</td>\n",
       "    </tr>\n",
       "    <tr>\n",
       "      <th>10</th>\n",
       "      <td>51</td>\n",
       "      <td>3</td>\n",
       "      <td>MRB</td>\n",
       "      <td>100</td>\n",
       "      <td>RED</td>\n",
       "      <td>0</td>\n",
       "      <td>589</td>\n",
       "    </tr>\n",
       "    <tr>\n",
       "      <th>11</th>\n",
       "      <td>51</td>\n",
       "      <td>4</td>\n",
       "      <td>MRB</td>\n",
       "      <td>100</td>\n",
       "      <td>RED</td>\n",
       "      <td>0</td>\n",
       "      <td>610</td>\n",
       "    </tr>\n",
       "    <tr>\n",
       "      <th>12</th>\n",
       "      <td>52</td>\n",
       "      <td>1</td>\n",
       "      <td>MRB</td>\n",
       "      <td>100</td>\n",
       "      <td>RED</td>\n",
       "      <td>0</td>\n",
       "      <td>586</td>\n",
       "    </tr>\n",
       "    <tr>\n",
       "      <th>13</th>\n",
       "      <td>52</td>\n",
       "      <td>2</td>\n",
       "      <td>MRB</td>\n",
       "      <td>100</td>\n",
       "      <td>RED</td>\n",
       "      <td>0</td>\n",
       "      <td>979</td>\n",
       "    </tr>\n",
       "    <tr>\n",
       "      <th>14</th>\n",
       "      <td>52</td>\n",
       "      <td>3</td>\n",
       "      <td>MRB</td>\n",
       "      <td>100</td>\n",
       "      <td>RED</td>\n",
       "      <td>0</td>\n",
       "      <td>773</td>\n",
       "    </tr>\n",
       "    <tr>\n",
       "      <th>15</th>\n",
       "      <td>52</td>\n",
       "      <td>4</td>\n",
       "      <td>MRB</td>\n",
       "      <td>100</td>\n",
       "      <td>RED</td>\n",
       "      <td>0</td>\n",
       "      <td>513</td>\n",
       "    </tr>\n",
       "  </tbody>\n",
       "</table>\n",
       "</div>"
      ],
      "text/plain": [
       "    Brigade  Battalion Type  Strength Color  Turn  Firepower\n",
       "0         1          1  MRB       100  BLUE     0        599\n",
       "1         1          2  MRB       100  BLUE     0        743\n",
       "2         1          3  MRB       100  BLUE     0        602\n",
       "3         1          4  MRB       100  BLUE     0        540\n",
       "4         2          1  TAB       100  BLUE     0        878\n",
       "5         2          2  TAB       100  BLUE     0        528\n",
       "6         2          3  TAB       100  BLUE     0        913\n",
       "7         2          4  TAB       100  BLUE     0        717\n",
       "8        51          1  MRB       100   RED     0        513\n",
       "9        51          2  MRB       100   RED     0        551\n",
       "10       51          3  MRB       100   RED     0        589\n",
       "11       51          4  MRB       100   RED     0        610\n",
       "12       52          1  MRB       100   RED     0        586\n",
       "13       52          2  MRB       100   RED     0        979\n",
       "14       52          3  MRB       100   RED     0        773\n",
       "15       52          4  MRB       100   RED     0        513"
      ]
     },
     "execution_count": 44,
     "metadata": {},
     "output_type": "execute_result"
    }
   ],
   "source": [
    "df"
   ]
  },
  {
   "cell_type": "code",
   "execution_count": 74,
   "id": "831ef8c7",
   "metadata": {},
   "outputs": [],
   "source": [
    "b=look(1,1)['Firepower']\n",
    "r=look(51,1)['Firepower']\n"
   ]
  },
  {
   "cell_type": "code",
   "execution_count": 60,
   "id": "ff1b497e",
   "metadata": {},
   "outputs": [
    {
     "data": {
      "text/plain": [
       "(0    599\n",
       " Name: Firepower, dtype: int32,\n",
       " 8    513\n",
       " Name: Firepower, dtype: int32)"
      ]
     },
     "execution_count": 60,
     "metadata": {},
     "output_type": "execute_result"
    }
   ],
   "source": [
    "look(1,1)['Firepower'],look(51,1)['Firepower']"
   ]
  },
  {
   "cell_type": "code",
   "execution_count": 54,
   "id": "a80649c7",
   "metadata": {},
   "outputs": [],
   "source": [
    "x=look(1,1)['Firepower']"
   ]
  },
  {
   "cell_type": "code",
   "execution_count": 70,
   "id": "4883a2e6",
   "metadata": {},
   "outputs": [],
   "source": [
    "e1=x[0]"
   ]
  },
  {
   "cell_type": "code",
   "execution_count": 117,
   "id": "c65490f5",
   "metadata": {},
   "outputs": [],
   "source": [
    "#COFM\n",
    "#now make ratio\n",
    "cofm=b.item()/r.item()\n",
    "bratio=b.item()/(b.item()+r.item())"
   ]
  },
  {
   "cell_type": "code",
   "execution_count": 107,
   "id": "444fc471",
   "metadata": {},
   "outputs": [
    {
     "data": {
      "text/plain": [
       "0.7334678554407595"
      ]
     },
     "execution_count": 107,
     "metadata": {},
     "output_type": "execute_result"
    }
   ],
   "source": [
    "(1/cofm)/cofm"
   ]
  },
  {
   "cell_type": "code",
   "execution_count": 118,
   "id": "3809f548",
   "metadata": {},
   "outputs": [
    {
     "data": {
      "text/plain": [
       "0.5386690647482014"
      ]
     },
     "execution_count": 118,
     "metadata": {},
     "output_type": "execute_result"
    }
   ],
   "source": [
    "bratio"
   ]
  },
  {
   "cell_type": "code",
   "execution_count": 122,
   "id": "4670d617",
   "metadata": {},
   "outputs": [
    {
     "ename": "TypeError",
     "evalue": "'float' object is not callable",
     "output_type": "error",
     "traceback": [
      "\u001b[1;31m---------------------------------------------------------------------------\u001b[0m",
      "\u001b[1;31mTypeError\u001b[0m                                 Traceback (most recent call last)",
      "Cell \u001b[1;32mIn[122], line 1\u001b[0m\n\u001b[1;32m----> 1\u001b[0m ((roll\u001b[38;5;241m/\u001b[39m\u001b[38;5;241m100\u001b[39m)(\u001b[38;5;241m100\u001b[39m\u001b[38;5;241m/\u001b[39m(bratio\u001b[38;5;241m*\u001b[39m\u001b[38;5;241m100\u001b[39m)(\u001b[43mbratio\u001b[49m\u001b[43m(\u001b[49m\u001b[38;5;241;43m100\u001b[39;49m\u001b[38;5;241;43m/\u001b[39;49m\u001b[43m(\u001b[49m\u001b[43mbratio\u001b[49m\u001b[38;5;241;43m*\u001b[39;49m\u001b[38;5;241;43m100\u001b[39;49m\u001b[43m)\u001b[49m\u001b[38;5;241;43m*\u001b[39;49m\u001b[38;5;241;43m0.5\u001b[39;49m\u001b[43m)\u001b[49m)))\n",
      "\u001b[1;31mTypeError\u001b[0m: 'float' object is not callable"
     ]
    }
   ],
   "source": [
    "((roll/100)(100/(bratio*100)\n",
    "            (bratio(100/(bratio*100)*0.5))))"
   ]
  },
  {
   "cell_type": "code",
   "execution_count": 131,
   "id": "d9c520b8",
   "metadata": {},
   "outputs": [
    {
     "data": {
      "text/plain": [
       "0.668313856427379"
      ]
     },
     "execution_count": 131,
     "metadata": {},
     "output_type": "execute_result"
    }
   ],
   "source": [
    "((roll/100)*(100/(bratio*100)))/(bratio*(100/(bratio*100)*0.5))"
   ]
  },
  {
   "cell_type": "code",
   "execution_count": 129,
   "id": "cb8d50a6",
   "metadata": {},
   "outputs": [
    {
     "data": {
      "text/plain": [
       "0.5"
      ]
     },
     "execution_count": 129,
     "metadata": {},
     "output_type": "execute_result"
    }
   ],
   "source": [
    "(bratio*(100/(bratio*100)*0.5))"
   ]
  },
  {
   "cell_type": "code",
   "execution_count": 114,
   "id": "58d71668",
   "metadata": {},
   "outputs": [
    {
     "data": {
      "text/plain": [
       "0.5386690647482014"
      ]
     },
     "execution_count": 114,
     "metadata": {},
     "output_type": "execute_result"
    }
   ],
   "source": [
    "599/(599+513)\n",
    "#(599/513)/(513/599)"
   ]
  },
  {
   "cell_type": "code",
   "execution_count": 76,
   "id": "d06c4843",
   "metadata": {},
   "outputs": [
    {
     "ename": "KeyError",
     "evalue": "0",
     "output_type": "error",
     "traceback": [
      "\u001b[1;31m---------------------------------------------------------------------------\u001b[0m",
      "\u001b[1;31mKeyError\u001b[0m                                  Traceback (most recent call last)",
      "File \u001b[1;32m~\\anaconda3\\lib\\site-packages\\pandas\\core\\indexes\\base.py:3803\u001b[0m, in \u001b[0;36mIndex.get_loc\u001b[1;34m(self, key, method, tolerance)\u001b[0m\n\u001b[0;32m   3802\u001b[0m \u001b[38;5;28;01mtry\u001b[39;00m:\n\u001b[1;32m-> 3803\u001b[0m     \u001b[38;5;28;01mreturn\u001b[39;00m \u001b[38;5;28;43mself\u001b[39;49m\u001b[38;5;241;43m.\u001b[39;49m\u001b[43m_engine\u001b[49m\u001b[38;5;241;43m.\u001b[39;49m\u001b[43mget_loc\u001b[49m\u001b[43m(\u001b[49m\u001b[43mcasted_key\u001b[49m\u001b[43m)\u001b[49m\n\u001b[0;32m   3804\u001b[0m \u001b[38;5;28;01mexcept\u001b[39;00m \u001b[38;5;167;01mKeyError\u001b[39;00m \u001b[38;5;28;01mas\u001b[39;00m err:\n",
      "File \u001b[1;32m~\\anaconda3\\lib\\site-packages\\pandas\\_libs\\index.pyx:138\u001b[0m, in \u001b[0;36mpandas._libs.index.IndexEngine.get_loc\u001b[1;34m()\u001b[0m\n",
      "File \u001b[1;32m~\\anaconda3\\lib\\site-packages\\pandas\\_libs\\index.pyx:165\u001b[0m, in \u001b[0;36mpandas._libs.index.IndexEngine.get_loc\u001b[1;34m()\u001b[0m\n",
      "File \u001b[1;32mpandas\\_libs\\hashtable_class_helper.pxi:2263\u001b[0m, in \u001b[0;36mpandas._libs.hashtable.Int64HashTable.get_item\u001b[1;34m()\u001b[0m\n",
      "File \u001b[1;32mpandas\\_libs\\hashtable_class_helper.pxi:2273\u001b[0m, in \u001b[0;36mpandas._libs.hashtable.Int64HashTable.get_item\u001b[1;34m()\u001b[0m\n",
      "\u001b[1;31mKeyError\u001b[0m: 0",
      "\nThe above exception was the direct cause of the following exception:\n",
      "\u001b[1;31mKeyError\u001b[0m                                  Traceback (most recent call last)",
      "Cell \u001b[1;32mIn[76], line 2\u001b[0m\n\u001b[0;32m      1\u001b[0m b[\u001b[38;5;241m0\u001b[39m]\n\u001b[1;32m----> 2\u001b[0m \u001b[43mr\u001b[49m\u001b[43m[\u001b[49m\u001b[38;5;241;43m0\u001b[39;49m\u001b[43m]\u001b[49m\n",
      "File \u001b[1;32m~\\anaconda3\\lib\\site-packages\\pandas\\core\\series.py:981\u001b[0m, in \u001b[0;36mSeries.__getitem__\u001b[1;34m(self, key)\u001b[0m\n\u001b[0;32m    978\u001b[0m     \u001b[38;5;28;01mreturn\u001b[39;00m \u001b[38;5;28mself\u001b[39m\u001b[38;5;241m.\u001b[39m_values[key]\n\u001b[0;32m    980\u001b[0m \u001b[38;5;28;01melif\u001b[39;00m key_is_scalar:\n\u001b[1;32m--> 981\u001b[0m     \u001b[38;5;28;01mreturn\u001b[39;00m \u001b[38;5;28;43mself\u001b[39;49m\u001b[38;5;241;43m.\u001b[39;49m\u001b[43m_get_value\u001b[49m\u001b[43m(\u001b[49m\u001b[43mkey\u001b[49m\u001b[43m)\u001b[49m\n\u001b[0;32m    983\u001b[0m \u001b[38;5;28;01mif\u001b[39;00m is_hashable(key):\n\u001b[0;32m    984\u001b[0m     \u001b[38;5;66;03m# Otherwise index.get_value will raise InvalidIndexError\u001b[39;00m\n\u001b[0;32m    985\u001b[0m     \u001b[38;5;28;01mtry\u001b[39;00m:\n\u001b[0;32m    986\u001b[0m         \u001b[38;5;66;03m# For labels that don't resolve as scalars like tuples and frozensets\u001b[39;00m\n",
      "File \u001b[1;32m~\\anaconda3\\lib\\site-packages\\pandas\\core\\series.py:1089\u001b[0m, in \u001b[0;36mSeries._get_value\u001b[1;34m(self, label, takeable)\u001b[0m\n\u001b[0;32m   1086\u001b[0m     \u001b[38;5;28;01mreturn\u001b[39;00m \u001b[38;5;28mself\u001b[39m\u001b[38;5;241m.\u001b[39m_values[label]\n\u001b[0;32m   1088\u001b[0m \u001b[38;5;66;03m# Similar to Index.get_value, but we do not fall back to positional\u001b[39;00m\n\u001b[1;32m-> 1089\u001b[0m loc \u001b[38;5;241m=\u001b[39m \u001b[38;5;28;43mself\u001b[39;49m\u001b[38;5;241;43m.\u001b[39;49m\u001b[43mindex\u001b[49m\u001b[38;5;241;43m.\u001b[39;49m\u001b[43mget_loc\u001b[49m\u001b[43m(\u001b[49m\u001b[43mlabel\u001b[49m\u001b[43m)\u001b[49m\n\u001b[0;32m   1090\u001b[0m \u001b[38;5;28;01mreturn\u001b[39;00m \u001b[38;5;28mself\u001b[39m\u001b[38;5;241m.\u001b[39mindex\u001b[38;5;241m.\u001b[39m_get_values_for_loc(\u001b[38;5;28mself\u001b[39m, loc, label)\n",
      "File \u001b[1;32m~\\anaconda3\\lib\\site-packages\\pandas\\core\\indexes\\base.py:3805\u001b[0m, in \u001b[0;36mIndex.get_loc\u001b[1;34m(self, key, method, tolerance)\u001b[0m\n\u001b[0;32m   3803\u001b[0m     \u001b[38;5;28;01mreturn\u001b[39;00m \u001b[38;5;28mself\u001b[39m\u001b[38;5;241m.\u001b[39m_engine\u001b[38;5;241m.\u001b[39mget_loc(casted_key)\n\u001b[0;32m   3804\u001b[0m \u001b[38;5;28;01mexcept\u001b[39;00m \u001b[38;5;167;01mKeyError\u001b[39;00m \u001b[38;5;28;01mas\u001b[39;00m err:\n\u001b[1;32m-> 3805\u001b[0m     \u001b[38;5;28;01mraise\u001b[39;00m \u001b[38;5;167;01mKeyError\u001b[39;00m(key) \u001b[38;5;28;01mfrom\u001b[39;00m \u001b[38;5;21;01merr\u001b[39;00m\n\u001b[0;32m   3806\u001b[0m \u001b[38;5;28;01mexcept\u001b[39;00m \u001b[38;5;167;01mTypeError\u001b[39;00m:\n\u001b[0;32m   3807\u001b[0m     \u001b[38;5;66;03m# If we have a listlike key, _check_indexing_error will raise\u001b[39;00m\n\u001b[0;32m   3808\u001b[0m     \u001b[38;5;66;03m#  InvalidIndexError. Otherwise we fall through and re-raise\u001b[39;00m\n\u001b[0;32m   3809\u001b[0m     \u001b[38;5;66;03m#  the TypeError.\u001b[39;00m\n\u001b[0;32m   3810\u001b[0m     \u001b[38;5;28mself\u001b[39m\u001b[38;5;241m.\u001b[39m_check_indexing_error(key)\n",
      "\u001b[1;31mKeyError\u001b[0m: 0"
     ]
    }
   ],
   "source": [
    "b[0]\n",
    "r[0]"
   ]
  },
  {
   "cell_type": "code",
   "execution_count": 72,
   "id": "6e435818",
   "metadata": {},
   "outputs": [
    {
     "data": {
      "text/plain": [
       "358801"
      ]
     },
     "execution_count": 72,
     "metadata": {},
     "output_type": "execute_result"
    }
   ],
   "source": [
    "e1*e1"
   ]
  },
  {
   "cell_type": "code",
   "execution_count": 86,
   "id": "0955aa64",
   "metadata": {},
   "outputs": [
    {
     "data": {
      "text/plain": [
       "8    513\n",
       "Name: Firepower, dtype: int32"
      ]
     },
     "execution_count": 86,
     "metadata": {},
     "output_type": "execute_result"
    }
   ],
   "source": [
    "r"
   ]
  },
  {
   "cell_type": "code",
   "execution_count": 87,
   "id": "10e9582a",
   "metadata": {},
   "outputs": [],
   "source": [
    "b1=look(1,1)['Firepower']"
   ]
  },
  {
   "cell_type": "code",
   "execution_count": 102,
   "id": "79fdfb1c",
   "metadata": {},
   "outputs": [
    {
     "data": {
      "text/plain": [
       "358801"
      ]
     },
     "execution_count": 102,
     "metadata": {},
     "output_type": "execute_result"
    }
   ],
   "source": [
    "b1.item()*b1.item()"
   ]
  },
  {
   "cell_type": "code",
   "execution_count": 94,
   "id": "dcbbf640",
   "metadata": {},
   "outputs": [],
   "source": [
    "e1=look(1,1)"
   ]
  },
  {
   "cell_type": "code",
   "execution_count": 99,
   "id": "5d3d682e",
   "metadata": {},
   "outputs": [
    {
     "data": {
      "text/html": [
       "<div>\n",
       "<style scoped>\n",
       "    .dataframe tbody tr th:only-of-type {\n",
       "        vertical-align: middle;\n",
       "    }\n",
       "\n",
       "    .dataframe tbody tr th {\n",
       "        vertical-align: top;\n",
       "    }\n",
       "\n",
       "    .dataframe thead th {\n",
       "        text-align: right;\n",
       "    }\n",
       "</style>\n",
       "<table border=\"1\" class=\"dataframe\">\n",
       "  <thead>\n",
       "    <tr style=\"text-align: right;\">\n",
       "      <th></th>\n",
       "      <th>Brigade</th>\n",
       "      <th>Battalion</th>\n",
       "      <th>Type</th>\n",
       "      <th>Strength</th>\n",
       "      <th>Color</th>\n",
       "      <th>Turn</th>\n",
       "      <th>Firepower</th>\n",
       "    </tr>\n",
       "  </thead>\n",
       "  <tbody>\n",
       "    <tr>\n",
       "      <th>0</th>\n",
       "      <td>1</td>\n",
       "      <td>1</td>\n",
       "      <td>MRB</td>\n",
       "      <td>100</td>\n",
       "      <td>BLUE</td>\n",
       "      <td>0</td>\n",
       "      <td>599</td>\n",
       "    </tr>\n",
       "  </tbody>\n",
       "</table>\n",
       "</div>"
      ],
      "text/plain": [
       "   Brigade  Battalion Type  Strength Color  Turn  Firepower\n",
       "0        1          1  MRB       100  BLUE     0        599"
      ]
     },
     "execution_count": 99,
     "metadata": {},
     "output_type": "execute_result"
    }
   ],
   "source": [
    "e1"
   ]
  },
  {
   "cell_type": "code",
   "execution_count": 165,
   "id": "6f5884a4",
   "metadata": {},
   "outputs": [
    {
     "name": "stdout",
     "output_type": "stream",
     "text": [
      "Enter the number of units:2\n",
      "Enter the turn number:1\n",
      "Enter Brigade2\n",
      "Enter Battalion 21\n",
      "The current unit strength is: \n",
      "   Brigade Battalion Type Strength Color  Turn  Firepower\n",
      "4       2         1  TAB      100  BLUE     0      878.0\n",
      "Enter Brigade2\n",
      "Enter Battalion 22\n",
      "The current unit strength is: \n",
      "   Brigade Battalion Type Strength Color  Turn  Firepower\n",
      "5       2         2  TAB      100  BLUE     0      528.0\n",
      "  Brigade Battalion  Firepower Turn\n",
      "0       2         2      528.0    1\n",
      "1       2         1      878.0    1\n"
     ]
    }
   ],
   "source": [
    "bunits = int(input(\"Enter the number of units:\"))\n",
    "turn = int(input(\"Enter the turn number:\"))\n",
    "bdf2 = pd.DataFrame(data=None,columns=[\"Brigade\", \"Battalion\", \"Firepower\",\"Turn\"])\n",
    "\n",
    "for _ in range(bunits):\n",
    "    #Set roll range here, later we can adjust for type for attack/defense\n",
    "    #roll=random.randrange(1,100)\n",
    "    ubr = input(\"Enter Brigade\")\n",
    "    uba = input(\"Enter Battalion {}\".format(ubr))\n",
    "    \n",
    "    #Load in cofm, we need to do this for each engagement now\n",
    "    #Just restructure to load in blue first and then load red\n",
    "    #Then do the battle roll, then apply attrition\n",
    "    \n",
    "    print ('The current unit strength is: \\n',look(int(ubr),int(uba)))\n",
    "    fp=look(int(ubr),int(uba))['Firepower'].item()\n",
    "    #s = input(\"Enter strength for {} brigade {} battalion\".format(ubr,uba))\n",
    "    bdf1 = pd.DataFrame(data=[[ubr,uba,fp,turn]],columns=[\"Brigade\", \"Battalion\", \"Firepower\",\"Turn\"])\n",
    "\n",
    "    bdf2 = pd.concat([bdf1,bdf2], axis=0)\n",
    "\n",
    "    \n",
    "    \n",
    "bdf2.index = range(len(bdf2.index))\n",
    "print (bdf2, \"Is this correct for blue?\")\n",
    "\n",
    "\n",
    "\n",
    "\n",
    "\n",
    "#write to csv\n",
    "#implement roll and then have it subtract atttrition from current value\n",
    "\n",
    "\n",
    "\n"
   ]
  },
  {
   "cell_type": "code",
   "execution_count": 168,
   "id": "75ffbbff",
   "metadata": {},
   "outputs": [
    {
     "data": {
      "text/plain": [
       "1406.0"
      ]
     },
     "execution_count": 168,
     "metadata": {},
     "output_type": "execute_result"
    }
   ],
   "source": [
    "bdf2['Firepower'].sum()\n"
   ]
  },
  {
   "cell_type": "code",
   "execution_count": null,
   "id": "3f80759d",
   "metadata": {},
   "outputs": [],
   "source": [
    "runits = int(input(\"Enter the number of units:\"))\n",
    "turn = int(input(\"Enter the turn number:\"))\n",
    "\n",
    "for _ in range(runits):\n",
    "    #Set roll range here, later we can adjust for type for attack/defense\n",
    "    roll=random.randrange(1,100)\n",
    "    ubr = input(\"Enter Brigade\")\n",
    "    uba = input(\"Enter Battalion {}\".format(ubr))\n",
    "    \n",
    "    #Load in cofm, we need to do this for each engagement now\n",
    "    #Just restructure to load in blue first and then load red\n",
    "    #Then do the battle roll, then apply attrition\n",
    "    b=look((int(ubr),int(uba))['Firepower'])\n",
    "    r=look((int(ubr),int(uba))['Firepower'])\n",
    "    bratio=b.item()/(b.item()+r.item())\n",
    "    cofm=b.item()/r.item()    \n",
    "    \n",
    "    print ('The current unit strength is: \\n',look(int(ubr),int(uba)))\n",
    "    s = input(\"Enter strength for {} brigade {} battalion\".format(ubr,uba))\n",
    "    df1 = pd.DataFrame(data=[[ubr,uba,s,turn]],columns=[\"Brigade\", \"Battalion\", \"Strength\",\"Turn\"])\n",
    "    df2 = pd.DataFrame(data=[[ubr,uba,s,turn]],columns=[\"Brigade\", \"Battalion\", \"Strength\",\"Turn\"])\n",
    "    df = pd.concat([df,df1], axis=0)"
   ]
  }
 ],
 "metadata": {
  "kernelspec": {
   "display_name": "Python 3 (ipykernel)",
   "language": "python",
   "name": "python3"
  },
  "language_info": {
   "codemirror_mode": {
    "name": "ipython",
    "version": 3
   },
   "file_extension": ".py",
   "mimetype": "text/x-python",
   "name": "python",
   "nbconvert_exporter": "python",
   "pygments_lexer": "ipython3",
   "version": "3.8.8"
  }
 },
 "nbformat": 4,
 "nbformat_minor": 5
}
